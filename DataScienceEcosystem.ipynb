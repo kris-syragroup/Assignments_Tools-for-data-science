{
 "cells": [
  {
   "cell_type": "markdown",
   "id": "70df37ee-16f3-4209-9c9b-dc4847b522c4",
   "metadata": {},
   "source": [
    "# Data Science Tools and Ecosystem"
   ]
  },
  {
   "cell_type": "markdown",
   "id": "467342e3-aabb-4915-8e6f-c5f712bff45c",
   "metadata": {},
   "source": [
    "## Author\n",
    "Kristen Brown"
   ]
  },
  {
   "cell_type": "markdown",
   "id": "40c5f214-9815-42f2-9879-2b248ad6169b",
   "metadata": {},
   "source": [
    "In this notebook, Data Science Tools and Ecosystem are summarized."
   ]
  },
  {
   "cell_type": "markdown",
   "id": "867d1d9b-1d78-4b1d-a8fb-bc21c6d3bbbb",
   "metadata": {},
   "source": [
    "**Objectives:**\n",
    "- Create a jupyter notebook using python language.\n",
    "- Demonstrate ability to create both code and markdown cells.\n",
    "- Format markdown cells including: Bullets and lists, tables, multiple heading levels, bold and italicised text.\n",
    "- Name some popular languages for data scientists, commonly used python libraries and open source data science tools.\n",
    "- Input suitable code to perform simple arithmentic and convert minutes to hours.\n",
    "- Insert suitable comments to explain code."
   ]
  },
  {
   "cell_type": "markdown",
   "id": "2ffc3ae7-e4b3-4662-be09-c75d972f829b",
   "metadata": {},
   "source": [
    "Some of the popular languages that Data Scientists use are:\n",
    "1. R\n",
    "2. Python\n",
    "3. SQL\n",
    "4. C"
   ]
  },
  {
   "cell_type": "markdown",
   "id": "a357decd-7abc-472c-8314-575631734009",
   "metadata": {},
   "source": [
    "Some of the commonly used libraries used by Data Scientists include:\n",
    "Python:\n",
    "1. Pandas\n",
    "2. Numpy\n",
    "3. Matplotlib\n",
    "4. SciPy\n",
    "5. Seaborn\n",
    "\n",
    "R:\n",
    "1. dplyr\n",
    "2. ggpolt2\n",
    "3. Shiny\n",
    "4. Esquisse\n",
    "5. Caret"
   ]
  },
  {
   "cell_type": "markdown",
   "id": "0ae4a0f5-12de-4c6c-9dd0-04044f7d079b",
   "metadata": {},
   "source": [
    "|Data Science Tools|\n",
    "|------|\n",
    "|R Studio|\n",
    "|Jupyter Notebooks|\n",
    "|Zeppelin Notebooks|"
   ]
  },
  {
   "cell_type": "markdown",
   "id": "a933eeb1-db3a-4d2e-8084-3e99f7b1a284",
   "metadata": {},
   "source": [
    "### Below are a few examples of evaluating arithmetic expressions in Python"
   ]
  },
  {
   "cell_type": "code",
   "execution_count": 33,
   "id": "dad3e176-c31c-48b9-b1ee-da7f3d819b54",
   "metadata": {},
   "outputs": [
    {
     "data": {
      "text/plain": [
       "17"
      ]
     },
     "execution_count": 33,
     "metadata": {},
     "output_type": "execute_result"
    }
   ],
   "source": [
    "# This a simple arithmetic expression to mutiply then add integers\n",
    "(3*4)+5"
   ]
  },
  {
   "cell_type": "code",
   "execution_count": 35,
   "id": "2a487080-ad14-4e67-a525-b2234d979808",
   "metadata": {},
   "outputs": [
    {
     "data": {
      "text/plain": [
       "3.3333333333333335"
      ]
     },
     "execution_count": 35,
     "metadata": {},
     "output_type": "execute_result"
    }
   ],
   "source": [
    "# This will convert 200 minutes to hours by dividing by 60\n",
    "200/60"
   ]
  }
 ],
 "metadata": {
  "kernelspec": {
   "display_name": "Python 3 (ipykernel)",
   "language": "python",
   "name": "python3"
  },
  "language_info": {
   "codemirror_mode": {
    "name": "ipython",
    "version": 3
   },
   "file_extension": ".py",
   "mimetype": "text/x-python",
   "name": "python",
   "nbconvert_exporter": "python",
   "pygments_lexer": "ipython3",
   "version": "3.11.7"
  }
 },
 "nbformat": 4,
 "nbformat_minor": 5
}
